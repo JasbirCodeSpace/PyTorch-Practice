{
 "cells": [
  {
   "cell_type": "markdown",
   "metadata": {},
   "source": [
    "# torch.Tensor\n",
    " A torch.Tensor is a multi-dimensional matrix containing elements of a single data type."
   ]
  },
  {
   "cell_type": "code",
   "execution_count": 1,
   "metadata": {},
   "outputs": [],
   "source": [
    "import torch\n",
    "import numpy as np"
   ]
  },
  {
   "cell_type": "markdown",
   "metadata": {},
   "source": [
    "## There are a few main ways to create a tensor, depending on your use case.\n",
    "\n",
    "1. To create a tensor with pre-existing data, use torch.tensor().\n",
    "\n",
    "2. To create a tensor with specific size, use torch.* tensor creation ops.\n",
    "\n",
    "3. To create a tensor with the same size (and similar types) as another tensor, use torch.*_like tensor creation ops.\n",
    "\n",
    "4. To create a tensor with similar type but different size as another tensor, use tensor.new_* creation ops."
   ]
  },
  {
   "cell_type": "markdown",
   "metadata": {},
   "source": [
    "### Function 1 : torch.tensor"
   ]
  },
  {
   "cell_type": "code",
   "execution_count": 2,
   "metadata": {},
   "outputs": [
    {
     "name": "stdout",
     "output_type": "stream",
     "text": [
      "torch.float32\n",
      "tensor([[ 1.0000, 23.0000, -4.0000],\n",
      "        [ 9.0000,  4.5000,  0.0000]])\n"
     ]
    }
   ],
   "source": [
    "t = torch.tensor([[1,23,-4],[9,4.5,0]])\n",
    "print(t.dtype)\n",
    "print(t)"
   ]
  },
  {
   "cell_type": "markdown",
   "metadata": {},
   "source": [
    "### Function 2 : torch.*"
   ]
  },
  {
   "cell_type": "code",
   "execution_count": 3,
   "metadata": {},
   "outputs": [
    {
     "name": "stdout",
     "output_type": "stream",
     "text": [
      "tensor([[ 1.0000, 23.0000, -4.0000],\n",
      "        [ 9.0000,  4.5000,  0.0000]])\n",
      "tensor([[1.0000, 2.0000],\n",
      "        [5.3000, 6.0000]], dtype=torch.float64)\n"
     ]
    }
   ],
   "source": [
    "#(a) torch.as_tensor()\n",
    "t1 = torch.as_tensor(t)\n",
    "t2 = torch.as_tensor(np.array([[1,2],[5.3,6]]))\n",
    "print(t1)\n",
    "print(t2)"
   ]
  },
  {
   "cell_type": "code",
   "execution_count": 6,
   "metadata": {},
   "outputs": [
    {
     "data": {
      "text/plain": [
       "tensor([[1, 2],\n",
       "        [3, 0]], dtype=torch.int32)"
      ]
     },
     "execution_count": 6,
     "metadata": {},
     "output_type": "execute_result"
    }
   ],
   "source": [
    "#(b) torch.from_numpy()\n",
    "arr = np.array([[1,2],[3,0]])\n",
    "t1 = torch.from_numpy(arr)\n",
    "t1"
   ]
  },
  {
   "cell_type": "code",
   "execution_count": 7,
   "metadata": {},
   "outputs": [
    {
     "data": {
      "text/plain": [
       "tensor([[0., 0., 0.],\n",
       "        [0., 0., 0.]])"
      ]
     },
     "execution_count": 7,
     "metadata": {},
     "output_type": "execute_result"
    }
   ],
   "source": [
    "#(c) torch.zeros()\n",
    "t1 = torch.zeros(2,3)\n",
    "t1"
   ]
  },
  {
   "cell_type": "code",
   "execution_count": 9,
   "metadata": {},
   "outputs": [
    {
     "data": {
      "text/plain": [
       "tensor([[1., 1., 1.],\n",
       "        [1., 1., 1.]])"
      ]
     },
     "execution_count": 9,
     "metadata": {},
     "output_type": "execute_result"
    }
   ],
   "source": [
    "#(d) torch.ones()\n",
    "t1 = torch.ones(2,3)\n",
    "t1"
   ]
  },
  {
   "cell_type": "code",
   "execution_count": 14,
   "metadata": {},
   "outputs": [
    {
     "name": "stdout",
     "output_type": "stream",
     "text": [
      "tensor([0, 1, 2, 3, 4, 5, 6, 7, 8, 9])\n",
      "tensor([1, 2, 3])\n",
      "tensor([1.0000, 1.2000, 1.4000, 1.6000, 1.8000])\n"
     ]
    }
   ],
   "source": [
    "#(e) torch.arrange()\n",
    "t1 = torch.arange(10)\n",
    "print(t1)\n",
    "t2 = torch.arange(1,4)\n",
    "print(t2)\n",
    "t3 = torch.arange(1,2,0.2)\n",
    "print(t3)"
   ]
  },
  {
   "cell_type": "code",
   "execution_count": 16,
   "metadata": {},
   "outputs": [
    {
     "name": "stderr",
     "output_type": "stream",
     "text": [
      "<ipython-input-16-9609b579f4a9>:2: UserWarning: torch.range is deprecated in favor of torch.arange and will be removed in 0.5. Note that arange generates values in [start; end), not [start; end].\n",
      "  t1 = torch.range(1,4,0.5)\n"
     ]
    },
    {
     "data": {
      "text/plain": [
       "tensor([1.0000, 1.5000, 2.0000, 2.5000, 3.0000, 3.5000, 4.0000])"
      ]
     },
     "execution_count": 16,
     "metadata": {},
     "output_type": "execute_result"
    }
   ],
   "source": [
    "#(f) torch.range()\n",
    "t1 = torch.range(1,4,0.5)\n",
    "t1"
   ]
  },
  {
   "cell_type": "code",
   "execution_count": 24,
   "metadata": {},
   "outputs": [
    {
     "data": {
      "text/plain": [
       "tensor([  1.,  12.,  23.,  34.,  45.,  56.,  67.,  78.,  89., 100.])"
      ]
     },
     "execution_count": 24,
     "metadata": {},
     "output_type": "execute_result"
    }
   ],
   "source": [
    "#(g) torch.linspace()\n",
    "t1 = torch.linspace(start=1,end=100,steps=10)\n",
    "t1"
   ]
  },
  {
   "cell_type": "code",
   "execution_count": 29,
   "metadata": {},
   "outputs": [
    {
     "name": "stdout",
     "output_type": "stream",
     "text": [
      "tensor([1.0000e-10, 1.0000e-05, 1.0000e+00, 1.0000e+05, 1.0000e+10])\n",
      "tensor([9.7656e-04, 3.1250e-02, 1.0000e+00, 3.2000e+01, 1.0240e+03])\n"
     ]
    }
   ],
   "source": [
    "#(h) torch.logspace()\n",
    "t1 = torch.logspace(start=-10,end=10,steps=5)\n",
    "print(t1)\n",
    "t2 = torch.logspace(start=-10,end=10,steps=5,base=2)\n",
    "print(t2)"
   ]
  },
  {
   "cell_type": "code",
   "execution_count": 31,
   "metadata": {},
   "outputs": [
    {
     "name": "stdout",
     "output_type": "stream",
     "text": [
      "tensor([[1., 0.],\n",
      "        [0., 1.]])\n",
      "tensor([[1., 0.],\n",
      "        [0., 1.],\n",
      "        [0., 0.]])\n"
     ]
    }
   ],
   "source": [
    "#(i) torch.eye()\n",
    "t1 = torch.eye(2)\n",
    "print(t1)\n",
    "t2 = torch.eye(3,2)\n",
    "print(t2)"
   ]
  },
  {
   "cell_type": "code",
   "execution_count": 32,
   "metadata": {},
   "outputs": [
    {
     "data": {
      "text/plain": [
       "tensor([[1.3481e-05, 4.1300e-05, 2.6403e-06, 1.0625e+21],\n",
       "        [4.0290e-11, 7.1450e+31, 4.1418e-41, 0.0000e+00]])"
      ]
     },
     "execution_count": 32,
     "metadata": {},
     "output_type": "execute_result"
    }
   ],
   "source": [
    "#(j) torch.empty()\n",
    "t1 = torch.empty(2,4)\n",
    "t1"
   ]
  },
  {
   "cell_type": "code",
   "execution_count": 34,
   "metadata": {},
   "outputs": [
    {
     "data": {
      "text/plain": [
       "tensor([[1.5000, 1.5000, 1.5000],\n",
       "        [1.5000, 1.5000, 1.5000],\n",
       "        [1.5000, 1.5000, 1.5000]])"
      ]
     },
     "execution_count": 34,
     "metadata": {},
     "output_type": "execute_result"
    }
   ],
   "source": [
    "#(k) torch.full()\n",
    "t1 = torch.full(size=(3,3),fill_value=1.5)\n",
    "t1"
   ]
  },
  {
   "cell_type": "code",
   "execution_count": 35,
   "metadata": {},
   "outputs": [
    {
     "data": {
      "text/plain": [
       "tensor([[0.5826, 0.5610, 0.8868],\n",
       "        [0.5035, 0.9043, 0.7582]])"
      ]
     },
     "execution_count": 35,
     "metadata": {},
     "output_type": "execute_result"
    }
   ],
   "source": [
    "#(l) torch.rand()\n",
    "t1 = torch.rand(2,3)\n",
    "t1"
   ]
  },
  {
   "cell_type": "code",
   "execution_count": 38,
   "metadata": {},
   "outputs": [
    {
     "data": {
      "text/plain": [
       "tensor([[1, 5],\n",
       "        [2, 9],\n",
       "        [5, 3]])"
      ]
     },
     "execution_count": 38,
     "metadata": {},
     "output_type": "execute_result"
    }
   ],
   "source": [
    "#(m) torch.randint()\n",
    "t1 = torch.randint(low=1,high=10,size=(3,2))\n",
    "t1"
   ]
  },
  {
   "cell_type": "code",
   "execution_count": 39,
   "metadata": {},
   "outputs": [
    {
     "data": {
      "text/plain": [
       "tensor([[ 0.4881,  0.2342, -0.0116,  0.0615],\n",
       "        [-0.9158, -0.8150,  1.7170,  0.4454]])"
      ]
     },
     "execution_count": 39,
     "metadata": {},
     "output_type": "execute_result"
    }
   ],
   "source": [
    "#(n) torch.randn()\n",
    "t1 = torch.randn(size=(2,4))\n",
    "t1"
   ]
  },
  {
   "cell_type": "code",
   "execution_count": 42,
   "metadata": {},
   "outputs": [
    {
     "name": "stdout",
     "output_type": "stream",
     "text": [
      "tensor([[0.2734, 0.0147],\n",
      "        [0.3248, 0.5075]])\n",
      "tensor([[0.2734, 0.0147, 0.2734, 0.0147],\n",
      "        [0.3248, 0.5075, 0.3248, 0.5075]])\n"
     ]
    }
   ],
   "source": [
    "#(o) torch.cat()\n",
    "t1 = torch.rand(size=(2,2))\n",
    "print(t1)\n",
    "t2 = torch.cat((t1,t1),1)\n",
    "print(t2)"
   ]
  },
  {
   "cell_type": "markdown",
   "metadata": {},
   "source": [
    "### Function 3 : torch.*_like "
   ]
  },
  {
   "cell_type": "code",
   "execution_count": 14,
   "metadata": {},
   "outputs": [
    {
     "data": {
      "text/plain": [
       "tensor([[0., 0., 0.],\n",
       "        [0., 0., 0.]])"
      ]
     },
     "execution_count": 14,
     "metadata": {},
     "output_type": "execute_result"
    }
   ],
   "source": [
    "#(a) torch.zeros_like()\n",
    "input = torch.empty(2,3)\n",
    "t1 = torch.zeros_like(input)\n",
    "t1"
   ]
  },
  {
   "cell_type": "code",
   "execution_count": 15,
   "metadata": {},
   "outputs": [
    {
     "data": {
      "text/plain": [
       "tensor([[1., 1., 1., 1.],\n",
       "        [1., 1., 1., 1.]])"
      ]
     },
     "execution_count": 15,
     "metadata": {},
     "output_type": "execute_result"
    }
   ],
   "source": [
    "#(b) torch.ones_like()\n",
    "input = torch.empty(2,4)\n",
    "t1 = torch.ones_like(input)\n",
    "t1"
   ]
  },
  {
   "cell_type": "code",
   "execution_count": 17,
   "metadata": {},
   "outputs": [
    {
     "data": {
      "text/plain": [
       "tensor([[0., 0., 0.],\n",
       "        [0., 0., 0.]])"
      ]
     },
     "execution_count": 17,
     "metadata": {},
     "output_type": "execute_result"
    }
   ],
   "source": [
    "#(c) torch.empty_like()\n",
    "t1 = torch.empty_like(t)\n",
    "t1"
   ]
  },
  {
   "cell_type": "code",
   "execution_count": 16,
   "metadata": {},
   "outputs": [
    {
     "data": {
      "text/plain": [
       "tensor([[0.8095, 0.0220],\n",
       "        [0.8246, 0.6129],\n",
       "        [0.7703, 0.2741]])"
      ]
     },
     "execution_count": 16,
     "metadata": {},
     "output_type": "execute_result"
    }
   ],
   "source": [
    "#(d) torch.rand_like()\n",
    "input = torch.empty(3,2)\n",
    "t1 = torch.rand_like(input)\n",
    "t1"
   ]
  },
  {
   "cell_type": "code",
   "execution_count": 20,
   "metadata": {},
   "outputs": [
    {
     "data": {
      "text/plain": [
       "tensor([[4.5000, 4.5000, 4.5000, 4.5000],\n",
       "        [4.5000, 4.5000, 4.5000, 4.5000],\n",
       "        [4.5000, 4.5000, 4.5000, 4.5000],\n",
       "        [4.5000, 4.5000, 4.5000, 4.5000],\n",
       "        [4.5000, 4.5000, 4.5000, 4.5000]])"
      ]
     },
     "execution_count": 20,
     "metadata": {},
     "output_type": "execute_result"
    }
   ],
   "source": [
    "#(e) torch.full_like()\n",
    "input = torch.empty(5,4)\n",
    "t1 = torch.full_like(input,fill_value=4.5)\n",
    "t1"
   ]
  },
  {
   "cell_type": "code",
   "execution_count": 27,
   "metadata": {},
   "outputs": [
    {
     "data": {
      "text/plain": [
       "tensor([[-95., -37.],\n",
       "        [  7., -47.],\n",
       "        [ 52., -47.]])"
      ]
     },
     "execution_count": 27,
     "metadata": {},
     "output_type": "execute_result"
    }
   ],
   "source": [
    "#(f) torch.randint_like()\n",
    "t1 = torch.randint_like(torch.empty(3,2),low=-100,high=100)\n",
    "t1"
   ]
  },
  {
   "cell_type": "code",
   "execution_count": 28,
   "metadata": {},
   "outputs": [
    {
     "data": {
      "text/plain": [
       "tensor([[ 1.1549,  0.5568,  0.1568,  0.2870],\n",
       "        [ 2.9359, -0.5719,  0.6126,  0.7819],\n",
       "        [ 0.9602, -0.5646, -0.3428, -0.4457]])"
      ]
     },
     "execution_count": 28,
     "metadata": {},
     "output_type": "execute_result"
    }
   ],
   "source": [
    "#(g) torch.randn_like()\n",
    "t = torch.randn_like(torch.empty(3,4))\n",
    "t"
   ]
  },
  {
   "cell_type": "code",
   "execution_count": null,
   "metadata": {},
   "outputs": [],
   "source": []
  }
 ],
 "metadata": {
  "kernelspec": {
   "display_name": "Python 3",
   "language": "python",
   "name": "python3"
  },
  "language_info": {
   "codemirror_mode": {
    "name": "ipython",
    "version": 3
   },
   "file_extension": ".py",
   "mimetype": "text/x-python",
   "name": "python",
   "nbconvert_exporter": "python",
   "pygments_lexer": "ipython3",
   "version": "3.8.3"
  }
 },
 "nbformat": 4,
 "nbformat_minor": 4
}
