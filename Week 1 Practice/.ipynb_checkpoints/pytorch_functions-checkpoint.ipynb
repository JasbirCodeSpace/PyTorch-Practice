{
 "cells": [
  {
   "cell_type": "markdown",
   "metadata": {},
   "source": [
    "# torch.Tensor\n",
    " A torch.Tensor is a multi-dimensional matrix containing elements of a single data type."
   ]
  },
  {
   "cell_type": "code",
   "execution_count": 1,
   "metadata": {},
   "outputs": [],
   "source": [
    "import torch"
   ]
  },
  {
   "cell_type": "markdown",
   "metadata": {},
   "source": [
    "## There are a few main ways to create a tensor, depending on your use case.\n",
    "\n",
    "1. To create a tensor with pre-existing data, use torch.tensor().\n",
    "\n",
    "2. To create a tensor with specific size, use torch.* tensor creation ops.\n",
    "\n",
    "3. To create a tensor with the same size (and similar types) as another tensor, use torch.*_like tensor creation ops.\n",
    "\n",
    "4. To create a tensor with similar type but different size as another tensor, use tensor.new_* creation ops."
   ]
  },
  {
   "cell_type": "markdown",
   "metadata": {},
   "source": [
    "### Function 1 : torch.tensor"
   ]
  },
  {
   "cell_type": "code",
   "execution_count": 7,
   "metadata": {},
   "outputs": [
    {
     "name": "stdout",
     "output_type": "stream",
     "text": [
      "torch.float32\n",
      "tensor([[ 1.0000, 23.0000, -4.0000],\n",
      "        [ 9.0000,  4.5000,  0.0000]])\n"
     ]
    }
   ],
   "source": [
    "t1 = torch.tensor([[1,23,-4],[9,4.5,0]])\n",
    "print(t1.dtype)\n",
    "print(t1)"
   ]
  },
  {
   "cell_type": "markdown",
   "metadata": {},
   "source": [
    "### Function 3 : torch.*_like "
   ]
  },
  {
   "cell_type": "code",
   "execution_count": 14,
   "metadata": {},
   "outputs": [
    {
     "data": {
      "text/plain": [
       "tensor([[0., 0., 0.],\n",
       "        [0., 0., 0.]])"
      ]
     },
     "execution_count": 14,
     "metadata": {},
     "output_type": "execute_result"
    }
   ],
   "source": [
    "#(a) torch.zeros_like()\n",
    "input = torch.empty(2,3)\n",
    "t = torch.zeros_like(input)\n",
    "t"
   ]
  },
  {
   "cell_type": "code",
   "execution_count": 15,
   "metadata": {},
   "outputs": [
    {
     "data": {
      "text/plain": [
       "tensor([[1., 1., 1., 1.],\n",
       "        [1., 1., 1., 1.]])"
      ]
     },
     "execution_count": 15,
     "metadata": {},
     "output_type": "execute_result"
    }
   ],
   "source": [
    "#(b) torch.ones_like()\n",
    "input = torch.empty(2,4)\n",
    "t = torch.ones_like(input)\n",
    "t"
   ]
  },
  {
   "cell_type": "code",
   "execution_count": 17,
   "metadata": {},
   "outputs": [
    {
     "data": {
      "text/plain": [
       "tensor([[0., 0., 0.],\n",
       "        [0., 0., 0.]])"
      ]
     },
     "execution_count": 17,
     "metadata": {},
     "output_type": "execute_result"
    }
   ],
   "source": [
    "#(c) torch.empty_like()\n",
    "t = torch.empty_like(t1)\n",
    "t"
   ]
  },
  {
   "cell_type": "code",
   "execution_count": 16,
   "metadata": {},
   "outputs": [
    {
     "data": {
      "text/plain": [
       "tensor([[0.8095, 0.0220],\n",
       "        [0.8246, 0.6129],\n",
       "        [0.7703, 0.2741]])"
      ]
     },
     "execution_count": 16,
     "metadata": {},
     "output_type": "execute_result"
    }
   ],
   "source": [
    "#(d) torch.rand_like()\n",
    "input = torch.empty(3,2)\n",
    "t = torch.rand_like(input)\n",
    "t"
   ]
  },
  {
   "cell_type": "code",
   "execution_count": 20,
   "metadata": {},
   "outputs": [
    {
     "data": {
      "text/plain": [
       "tensor([[4.5000, 4.5000, 4.5000, 4.5000],\n",
       "        [4.5000, 4.5000, 4.5000, 4.5000],\n",
       "        [4.5000, 4.5000, 4.5000, 4.5000],\n",
       "        [4.5000, 4.5000, 4.5000, 4.5000],\n",
       "        [4.5000, 4.5000, 4.5000, 4.5000]])"
      ]
     },
     "execution_count": 20,
     "metadata": {},
     "output_type": "execute_result"
    }
   ],
   "source": [
    "#(e) torch.full_like()\n",
    "input = torch.empty(5,4)\n",
    "t = torch.full_like(input,fill_value=4.5)\n",
    "t"
   ]
  },
  {
   "cell_type": "code",
   "execution_count": 27,
   "metadata": {},
   "outputs": [
    {
     "data": {
      "text/plain": [
       "tensor([[-95., -37.],\n",
       "        [  7., -47.],\n",
       "        [ 52., -47.]])"
      ]
     },
     "execution_count": 27,
     "metadata": {},
     "output_type": "execute_result"
    }
   ],
   "source": [
    "#(f) torch.randint_like()\n",
    "t = torch.randint_like(torch.empty(3,2),low=-100,high=100)\n",
    "t"
   ]
  },
  {
   "cell_type": "code",
   "execution_count": 28,
   "metadata": {},
   "outputs": [
    {
     "data": {
      "text/plain": [
       "tensor([[ 1.1549,  0.5568,  0.1568,  0.2870],\n",
       "        [ 2.9359, -0.5719,  0.6126,  0.7819],\n",
       "        [ 0.9602, -0.5646, -0.3428, -0.4457]])"
      ]
     },
     "execution_count": 28,
     "metadata": {},
     "output_type": "execute_result"
    }
   ],
   "source": [
    "#(g) torch.randn_like()\n",
    "t = torch.randn_like(torch.empty(3,4))\n",
    "t"
   ]
  },
  {
   "cell_type": "code",
   "execution_count": null,
   "metadata": {},
   "outputs": [],
   "source": []
  }
 ],
 "metadata": {
  "kernelspec": {
   "display_name": "Python 3",
   "language": "python",
   "name": "python3"
  },
  "language_info": {
   "codemirror_mode": {
    "name": "ipython",
    "version": 3
   },
   "file_extension": ".py",
   "mimetype": "text/x-python",
   "name": "python",
   "nbconvert_exporter": "python",
   "pygments_lexer": "ipython3",
   "version": "3.8.3"
  }
 },
 "nbformat": 4,
 "nbformat_minor": 4
}
